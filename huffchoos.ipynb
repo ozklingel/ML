{
 "cells": [
  {
   "cell_type": "code",
   "execution_count": 4,
   "metadata": {},
   "outputs": [
    {
     "name": "stdout",
     "output_type": "stream",
     "text": [
      "{'T': '0000', 't': '000100', 'Z': '000101', 'd': '00011', 'v': '001', 'h': '010', 'y': '011', 'r': '1000', 'g': '100100', 'z': '100101', 'n': '10011', 'a': '1010', 'A': '10110', 's': '101110', 'p': '101111', 'l': '1100', 'm': '1101', 'k': '11100', 'S': '11101', 'C': '111100', 'c': '111101', 'b': '11111'}\n"
     ]
    }
   ],
   "source": [
    "# Huffman Coding in python\n",
    "\n",
    "string = 'oz klingel'\n",
    "\n",
    "\n",
    "# Creating tree nodes\n",
    "class NodeTree(object):\n",
    "\n",
    "    def __init__(self, left=None, right=None):\n",
    "        self.left = left\n",
    "        self.right = right\n",
    "\n",
    "    def children(self):\n",
    "        return (self.left, self.right)\n",
    "\n",
    "    def nodes(self):\n",
    "        return (self.left, self.right)\n",
    "\n",
    "    def __str__(self):\n",
    "        return '%s_%s' % (self.left, self.right)\n",
    "\n",
    "\n",
    "# Main function implementing huffman coding\n",
    "def huffman_code_tree(node, left=True, binString=''):\n",
    "    if type(node) is str:\n",
    "        return {node: binString}\n",
    "    (l, r) = node.children()\n",
    "    d = dict()\n",
    "    d.update(huffman_code_tree(l, True, binString + '0'))\n",
    "    d.update(huffman_code_tree(r, False, binString + '1'))\n",
    "    return d\n",
    "\n",
    "\n",
    "\n",
    "nodes = [('a', 6.34),# א\n",
    "         ('b', 4.74),# ב\n",
    "         ('g', 1.30),# ג\n",
    "         ('d', 2.59) ,#ד \n",
    "         ('h', 10.87) ,#ה \n",
    "         ('v', 10.38)# ו\n",
    "        , ('z', 1.33),#ז \n",
    "         ('c', 2.48), #ח\n",
    "         ('t', 1.24),# ט\n",
    "         ('y', 11.06),#י \n",
    "         ('k', 3.5),# כ\n",
    "         ('l', 7.39) #ל\n",
    "        , ('m', 7.6),#מ\n",
    "         ('n', 3.1),#נ\n",
    "         ('s',1.48),#ס\n",
    "         ('A', 3.23),#ע\n",
    "         ('p', 1.9), #פ\n",
    "         ('Z', 1.3)#צ\n",
    "        , ('C', 2.14),#ק \n",
    "         ('r',5.61),#ר\n",
    "         ('S', 4.41),#ש\n",
    "         ('T',5.01)]# ת\n",
    "nodes=sorted(nodes,key=lambda x: x[1], reverse=True)\n",
    "while len(nodes) > 1:\n",
    "    (key1, c1) = nodes[-1]\n",
    "    (key2, c2) = nodes[-2]\n",
    "    nodes = nodes[:-2]\n",
    "    node = NodeTree(key1, key2)\n",
    "    nodes.append((node, c1 + c2))\n",
    "\n",
    "    nodes = sorted(nodes, key=lambda x: x[1], reverse=True)\n",
    "\n",
    "huffmanCode = huffman_code_tree(nodes[0][0])\n",
    "\n",
    "print(huffmanCode)\n",
    "\n"
   ]
  },
  {
   "cell_type": "code",
   "execution_count": null,
   "metadata": {},
   "outputs": [],
   "source": [
    "b. first name in binary:10110 001 100101 (עוז)"
   ]
  },
  {
   "cell_type": "markdown",
   "metadata": {},
   "source": [
    "c."
   ]
  },
  {
   "cell_type": "code",
   "execution_count": 8,
   "metadata": {},
   "outputs": [],
   "source": [
    "nodes = [('a', 6.34),# א\n",
    "         ('b', 4.74),# ב\n",
    "         ('g', 1.30),# ג\n",
    "         ('d', 2.59) ,#ד \n",
    "         ('h', 10.87) ,#ה \n",
    "         ('v', 10.38)# ו\n",
    "        , ('z', 1.33),#ז \n",
    "         ('c', 2.48), #ח\n",
    "         ('t', 1.24),# ט\n",
    "         ('y', 11.06),#י \n",
    "         ('k', 3.5),# כ\n",
    "         ('l', 7.39) #ל\n",
    "        , ('m', 7.6),#מ\n",
    "         ('n', 3.1),#נ\n",
    "         ('s',1.48),#ס\n",
    "         ('A', 3.23),#ע\n",
    "         ('p', 1.9), #פ\n",
    "         ('Z', 1.3)#צ\n",
    "        , ('C', 2.14),#ק \n",
    "         ('r',5.61),#ר\n",
    "         ('S', 4.41),#ש\n",
    "         ('T',5.01)]# "
   ]
  },
  {
   "cell_type": "code",
   "execution_count": 10,
   "metadata": {},
   "outputs": [],
   "source": [
    "import math\n",
    "sum=0\n",
    "for  a in nodes:\n",
    "    sum+=math.log(a[1]/100)*(a[1]/100)\n"
   ]
  },
  {
   "cell_type": "code",
   "execution_count": 12,
   "metadata": {},
   "outputs": [
    {
     "name": "stdout",
     "output_type": "stream",
     "text": [
      "2.843830463908175\n"
     ]
    }
   ],
   "source": [
    "print(-sum)"
   ]
  },
  {
   "cell_type": "markdown",
   "metadata": {},
   "source": [
    "at least 3 bits for encoding so its half of what i encoded"
   ]
  },
  {
   "cell_type": "markdown",
   "metadata": {},
   "source": [
    "(6,'א')"
   ]
  }
 ],
 "metadata": {
  "kernelspec": {
   "display_name": "Python 3",
   "language": "python",
   "name": "python3"
  },
  "language_info": {
   "codemirror_mode": {
    "name": "ipython",
    "version": 3
   },
   "file_extension": ".py",
   "mimetype": "text/x-python",
   "name": "python",
   "nbconvert_exporter": "python",
   "pygments_lexer": "ipython3",
   "version": "3.8.6"
  }
 },
 "nbformat": 4,
 "nbformat_minor": 4
}
